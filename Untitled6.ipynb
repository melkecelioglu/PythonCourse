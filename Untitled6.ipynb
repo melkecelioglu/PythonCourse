{
  "nbformat": 4,
  "nbformat_minor": 0,
  "metadata": {
    "colab": {
      "name": "Untitled6.ipynb",
      "provenance": [],
      "authorship_tag": "ABX9TyPxiZ/ubZdfwNynl3X62GWR",
      "include_colab_link": true
    },
    "kernelspec": {
      "name": "python3",
      "display_name": "Python 3"
    }
  },
  "cells": [
    {
      "cell_type": "markdown",
      "metadata": {
        "id": "view-in-github",
        "colab_type": "text"
      },
      "source": [
        "<a href=\"https://colab.research.google.com/github/melkecelioglu/PythonCourse/blob/master/Untitled6.ipynb\" target=\"_parent\"><img src=\"https://colab.research.google.com/assets/colab-badge.svg\" alt=\"Open In Colab\"/></a>"
      ]
    },
    {
      "cell_type": "code",
      "metadata": {
        "colab": {
          "base_uri": "https://localhost:8080/"
        },
        "id": "7TLZh0CTVi_2",
        "outputId": "914ccdca-77f7-4371-bb7a-9bfcf819248b"
      },
      "source": [
        "import random\n",
        "import sys\n",
        "\n",
        "\n",
        "def playGame():\n",
        "    words = ['python', 'java', 'javascript', 'kotlin', 'go', 'swift',\n",
        "             'abap', 'php', 'ruby', 'dart', 'scala', 'haskell', 'julia', 'matlab',\n",
        "             'pascal', 'pearl', 'rust', 'sql']\n",
        "    word = random.choice(words)\n",
        "    #print(word)\n",
        "    count = 5\n",
        "    guesses = []\n",
        "    x = len(word)\n",
        "    temp = list('_'*x)\n",
        "\n",
        "    while count > 0:\n",
        "        guess = input('Guess a letter: ')\n",
        "        if len(guess) > 1:\n",
        "            print(\"Please enter a just letter\")\n",
        "            continue\n",
        "        elif guess not in word:\n",
        "            count -= 1\n",
        "            if count == 0:\n",
        "                print(f\"Game Over!! Word is: {word}\")\n",
        "                menu()\n",
        "            print(f\" Wrong guess, {count} tries left.\")\n",
        "        else:\n",
        "            for i in range(len(word)):\n",
        "                if guess == word[i]:\n",
        "                    temp[i] = guess\n",
        "                    print(' '.join(temp), end='\\n')\n",
        "                    if guess in guesses:\n",
        "                        print(\"Please enter different letter\")\n",
        "                    else:\n",
        "                        guesses.append(guess)\n",
        "                        #print(\"guesses list:\",guesses)\n",
        "\n",
        "                    if '_' not in temp:\n",
        "                        print(f\"Congratulations!!!\")\n",
        "                        menu()\n",
        "\n",
        "\n",
        "def menu():\n",
        "    choice = True\n",
        "    print(\"\"\" --Main Menu--\n",
        "    1. Play Game \n",
        "    2. Exit \"\"\")\n",
        "    choice = input()\n",
        "    if choice == \"1\":\n",
        "        print(\"Let's guess the word (hint:programming language)\")\n",
        "        playGame()\n",
        "    elif choice == \"2\":\n",
        "        sys.exit()\n",
        "    else:\n",
        "        print(\"Not valid choice try again!!\")\n",
        "\n",
        "\n",
        "def main():\n",
        "    name = input(\"Please enter your name: \")\n",
        "    print(f\"---Hi {name}, Welcome to the Hangman game---\")\n",
        "    menu()\n",
        "\n",
        "\n",
        "if __name__ == \"__main__\":\n",
        "    main()"
      ],
      "execution_count": null,
      "outputs": [
        {
          "output_type": "stream",
          "text": [
            "Please enter your name: melike\n",
            "---Hi melike, Welcome to the Hangman game---\n",
            " --Main Menu--\n",
            "    1. Play Game \n",
            "    2. Exit \n",
            "1\n",
            "Let's guess the word (hint:programming language)\n",
            "Guess a letter: d\n",
            " Wrong guess, 4 tries left.\n",
            "Guess a letter: d\n",
            " Wrong guess, 3 tries left.\n",
            "Guess a letter: d\n",
            " Wrong guess, 2 tries left.\n",
            "Guess a letter: \n",
            "Guess a letter: d\n",
            " Wrong guess, 1 tries left.\n",
            "Guess a letter: \n",
            "Guess a letter: d\n",
            "Game Over!! Word is: ruby\n",
            " --Main Menu--\n",
            "    1. Play Game \n",
            "    2. Exit \n",
            "d\n",
            "Not valid choice try again!!\n",
            " Wrong guess, 0 tries left.\n"
          ],
          "name": "stdout"
        }
      ]
    }
  ]
}